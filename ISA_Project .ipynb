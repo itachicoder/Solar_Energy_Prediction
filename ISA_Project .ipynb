{
 "cells": [
  {
   "cell_type": "code",
   "execution_count": 1,
   "metadata": {},
   "outputs": [],
   "source": [
    "import csv\n",
    "import numpy as np \n",
    "import netCDF4 as nc \n",
    "import os \n",
    "from sklearn import metrics \n",
    "from sklearn.linear_model import Ridge\n",
    "from sklearn.model_selection import train_test_split \n"
   ]
  },
  {
   "cell_type": "code",
   "execution_count": 53,
   "metadata": {},
   "outputs": [],
   "source": [
    "def load_GEFS_data(directory,files_to_use,file_sub_str):\n",
    "    for i,f in enumerate(files_to_use):\n",
    "        if i == 0:\n",
    "            X = load_GEFS_file(directory,files_to_use[i],file_sub_str)\n",
    "        else:\n",
    "            X_new = load_GEFS_file(directory,files_to_use[i],file_sub_str)\n",
    "            X = np.hstack((X,X_new))\n",
    "    return X"
   ]
  },
  {
   "cell_type": "code",
   "execution_count": 54,
   "metadata": {},
   "outputs": [],
   "source": [
    "def load_GEFS_file(directory,data_type,file_sub_str):\n",
    "    print('loading',data_type)\n",
    "    path = os.path.join(directory,data_type+file_sub_str)\n",
    "    X = list(nc.Dataset(path,'r+').variables.values())[-1][:,:,:,3:7,3:13] \n",
    "    X = np.mean(X,axis=1) \n",
    "    X = X.reshape(X.shape[0],np.prod(X.shape[1:])) \n",
    "    return X"
   ]
  },
  {
   "cell_type": "code",
   "execution_count": 55,
   "metadata": {},
   "outputs": [
    {
     "name": "stdout",
     "output_type": "stream",
     "text": [
      "loading apcp_sfc\n",
      "loading dlwrf_sfc\n",
      "loading dswrf_sfc\n",
      "loading pres_msl\n",
      "loading pwat_eatm\n",
      "loading spfh_2m\n",
      "loading tcdc_eatm\n",
      "loading tcolc_eatm\n",
      "loading tmax_2m\n",
      "loading tmin_2m\n",
      "loading tmp_2m\n",
      "loading tmp_sfc\n",
      "loading ulwrf_sfc\n",
      "loading ulwrf_tatm\n",
      "loading uswrf_sfc\n"
     ]
    }
   ],
   "source": [
    "X=load_GEFS_data(r\"C:\\Users\\Aman\\Documents\\data\\solar_energy_predict\\train\",[\"apcp_sfc\",\"dlwrf_sfc\",\"dswrf_sfc\",\"pres_msl\",\"pwat_eatm\",\"spfh_2m\",\"tcdc_eatm\",\n",
    "                                   \"tcolc_eatm\",\"tmax_2m\",\"tmin_2m\",\"tmp_2m\",\"tmp_sfc\",\"ulwrf_sfc\",\"ulwrf_tatm\",\"uswrf_sfc\"],\n",
    "               \"_latlon_subset_19940101_20071231.nc\")"
   ]
  },
  {
   "cell_type": "code",
   "execution_count": 56,
   "metadata": {},
   "outputs": [],
   "source": [
    "import numpy\n",
    "numpy.savetxt(\"Xdata.csv\", X, delimiter=\",\")\n"
   ]
  },
  {
   "cell_type": "code",
   "execution_count": 57,
   "metadata": {},
   "outputs": [],
   "source": [
    "from numpy import genfromtxt\n",
    "X = genfromtxt('Xdata.csv', delimiter=',')"
   ]
  },
  {
   "cell_type": "code",
   "execution_count": 58,
   "metadata": {},
   "outputs": [
    {
     "data": {
      "text/plain": [
       "(5113, 3000)"
      ]
     },
     "execution_count": 58,
     "metadata": {},
     "output_type": "execute_result"
    }
   ],
   "source": [
    "X.shape\n",
    "\n"
   ]
  },
  {
   "cell_type": "code",
   "execution_count": 59,
   "metadata": {},
   "outputs": [
    {
     "name": "stdout",
     "output_type": "stream",
     "text": [
      "loading apcp_sfc\n",
      "loading dlwrf_sfc\n",
      "loading dswrf_sfc\n",
      "loading pres_msl\n",
      "loading pwat_eatm\n",
      "loading spfh_2m\n",
      "loading tcdc_eatm\n",
      "loading tcolc_eatm\n",
      "loading tmax_2m\n",
      "loading tmin_2m\n",
      "loading tmp_2m\n",
      "loading tmp_sfc\n",
      "loading ulwrf_sfc\n",
      "loading ulwrf_tatm\n",
      "loading uswrf_sfc\n"
     ]
    }
   ],
   "source": [
    "Xt=load_GEFS_data(r\"C:\\Users\\Aman\\Documents\\data\\solar_energy_predict\\test\",[\"apcp_sfc\",\"dlwrf_sfc\",\"dswrf_sfc\",\"pres_msl\",\"pwat_eatm\",\"spfh_2m\",\"tcdc_eatm\",\n",
    "                                   \"tcolc_eatm\",\"tmax_2m\",\"tmin_2m\",\"tmp_2m\",\"tmp_sfc\",\"ulwrf_sfc\",\"ulwrf_tatm\",\"uswrf_sfc\"],\n",
    "               \"_latlon_subset_20080101_20121130.nc\")"
   ]
  },
  {
   "cell_type": "code",
   "execution_count": 62,
   "metadata": {},
   "outputs": [],
   "source": [
    "def load_csv_data(path):\n",
    "    data = np.loadtxt(path,delimiter=',',dtype=float,skiprows=1)\n",
    "    times = data[:,0].astype(int)\n",
    "    Y = data[:,1:]\n",
    "    return times,Y"
   ]
  },
  {
   "cell_type": "code",
   "execution_count": 65,
   "metadata": {},
   "outputs": [],
   "source": [
    "times,y=load_csv_data(\"train.csv\")"
   ]
  },
  {
   "cell_type": "code",
   "execution_count": null,
   "metadata": {},
   "outputs": [],
   "source": []
  },
  {
   "cell_type": "code",
   "execution_count": 64,
   "metadata": {},
   "outputs": [
    {
     "name": "stdout",
     "output_type": "stream",
     "text": [
      "C:\\Users\\Aman\\Documents\\data\\solar_energy_predict\n"
     ]
    }
   ],
   "source": [
    "cd C:\\Users\\Aman\\Documents\\data\\solar_energy_predict"
   ]
  },
  {
   "cell_type": "code",
   "execution_count": null,
   "metadata": {},
   "outputs": [],
   "source": [
    "y.shape"
   ]
  },
  {
   "cell_type": "code",
   "execution_count": 66,
   "metadata": {},
   "outputs": [],
   "source": [
    "timest,yt=load_csv_data(\"sampleSubmission.csv\")\n"
   ]
  },
  {
   "cell_type": "code",
   "execution_count": 67,
   "metadata": {},
   "outputs": [
    {
     "data": {
      "text/plain": [
       "(1796, 98)"
      ]
     },
     "execution_count": 67,
     "metadata": {},
     "output_type": "execute_result"
    }
   ],
   "source": [
    "yt.shape "
   ]
  },
  {
   "cell_type": "code",
   "execution_count": 68,
   "metadata": {},
   "outputs": [],
   "source": [
    "X_train, X_test, y_train, y_test = train_test_split(X, y, test_size=.2, random_state = 45)\n"
   ]
  },
  {
   "cell_type": "code",
   "execution_count": 69,
   "metadata": {},
   "outputs": [],
   "source": [
    " def plot_learning_curve(train_sizes, train_scores, test_scores, title, alpha=0.1):\n",
    "    train_scores = -train_scores\n",
    "    test_scores = -test_scores\n",
    "    train_mean = np.mean(train_scores, axis=1)\n",
    "    train_std = np.std(train_scores, axis=1)\n",
    "    test_mean = np.mean(test_scores, axis=1)\n",
    "    test_std = np.std(test_scores, axis=1)\n",
    "    plt.plot(train_sizes, train_mean, label='train score', color='blue', marker='o')\n",
    "    plt.fill_between(train_sizes,train_mean + train_std,\n",
    "                    train_mean - train_std, color='blue', alpha=alpha)\n",
    "    plt.plot(train_sizes, test_mean, label='test score', color='red',marker='o')\n",
    "    plt.fill_between(train_sizes,test_mean + test_std, test_mean - test_std , color='red', alpha=alpha)\n",
    "    plt.title(title)\n",
    "    plt.xlabel('Training data')\n",
    "    plt.ylabel(r'MAE')\n",
    "    plt.grid(ls='--')\n",
    "    plt.legend(loc='best')\n",
    "    plt.show()"
   ]
  },
  {
   "cell_type": "markdown",
   "metadata": {},
   "source": [
    "Ridge regression"
   ]
  },
  {
   "cell_type": "code",
   "execution_count": 70,
   "metadata": {},
   "outputs": [
    {
     "data": {
      "text/plain": [
       "2220281.250306921"
      ]
     },
     "execution_count": 70,
     "metadata": {},
     "output_type": "execute_result"
    }
   ],
   "source": [
    "rdg_train = Ridge(normalize=True,alpha=0.31)\n",
    "rdg_train.fit(X_train, y_train)\n",
    "preds = rdg_train.predict(X_test)\n",
    "mae1 = metrics.mean_absolute_error(y_test,preds)\n",
    "mae1"
   ]
  },
  {
   "cell_type": "code",
   "execution_count": 73,
   "metadata": {},
   "outputs": [
    {
     "data": {
      "image/png": "[encoded data removed]",
      "text/plain": [
       "<Figure size 648x432 with 1 Axes>"
      ]
     },
     "metadata": {
      "needs_background": "light"
     },
     "output_type": "display_data"
    }
   ],
   "source": [
    "from sklearn.model_selection import learning_curve\n",
    "import matplotlib.pyplot as plt\n",
    "plt.figure(figsize=(9,6))\n",
    "train_sizes, train_scores, test_scores = learning_curve(rdg_train, X= X_train, y = y_train, \n",
    "                                            cv= 5,  scoring='neg_mean_absolute_error')\n",
    "\n",
    "fig_rdg=plot_learning_curve(train_sizes, train_scores, test_scores, title='Learning curve for Ridge')"
   ]
  },
  {
   "cell_type": "markdown",
   "metadata": {},
   "source": [
    "Linear Regression"
   ]
  },
  {
   "cell_type": "code",
   "execution_count": 72,
   "metadata": {},
   "outputs": [
    {
     "data": {
      "text/plain": [
       "4820050.111314773"
      ]
     },
     "execution_count": 72,
     "metadata": {},
     "output_type": "execute_result"
    }
   ],
   "source": [
    "from sklearn.linear_model import LinearRegression\n",
    "lr_train = LinearRegression()\n",
    "lr_train.fit(X_train, y_train)\n",
    "preds = lr_train.predict(X_test)\n",
    "mae2 = metrics.mean_absolute_error(y_test,preds)\n",
    "mae2"
   ]
  },
  {
   "cell_type": "code",
   "execution_count": 74,
   "metadata": {},
   "outputs": [
    {
     "data": {
      "image/png": "[encoded data removed]",
      "text/plain": [
       "<Figure size 648x432 with 1 Axes>"
      ]
     },
     "metadata": {
      "needs_background": "light"
     },
     "output_type": "display_data"
    }
   ],
   "source": [
    "plt.figure(figsize=(9,6))\n",
    "train_sizes, train_scores, test_scores = learning_curve(lr_train, X= X_train, y = y_train, \n",
    "                                            cv= 5,  scoring='neg_mean_absolute_error')\n",
    "\n",
    "fig_lr=plot_learning_curve(train_sizes, train_scores, test_scores, title='Learning curve for LR')"
   ]
  },
  {
   "cell_type": "code",
   "execution_count": 77,
   "metadata": {},
   "outputs": [
    {
     "data": {
      "text/plain": [
       "(5113, 3000)"
      ]
     },
     "execution_count": 77,
     "metadata": {},
     "output_type": "execute_result"
    }
   ],
   "source": [
    "X.shape\n"
   ]
  },
  {
   "cell_type": "code",
   "execution_count": 78,
   "metadata": {},
   "outputs": [
    {
     "data": {
      "text/plain": [
       "(4090, 3000)"
      ]
     },
     "execution_count": 78,
     "metadata": {},
     "output_type": "execute_result"
    }
   ],
   "source": [
    "X_train.shape"
   ]
  },
  {
   "cell_type": "markdown",
   "metadata": {},
   "source": [
    "Decision Tree"
   ]
  },
  {
   "cell_type": "code",
   "execution_count": 79,
   "metadata": {},
   "outputs": [
    {
     "data": {
      "text/plain": [
       "4820050.111314773"
      ]
     },
     "execution_count": 79,
     "metadata": {},
     "output_type": "execute_result"
    }
   ],
   "source": [
    "from sklearn.tree import DecisionTreeRegressor\n",
    "regressor_train = DecisionTreeRegressor(max_depth=7)\n",
    "regressor_train.fit(X_train, y_train)\n",
    "predsx = regressor_train.predict(X_test)\n",
    "mae3 = metrics.mean_absolute_error(y_test,preds)\n",
    "mae3\n"
   ]
  },
  {
   "cell_type": "code",
   "execution_count": 80,
   "metadata": {},
   "outputs": [
    {
     "data": {
      "image/png": "[encoded data removed]",
      "text/plain": [
       "<Figure size 648x432 with 1 Axes>"
      ]
     },
     "metadata": {
      "needs_background": "light"
     },
     "output_type": "display_data"
    }
   ],
   "source": [
    "from sklearn.model_selection import learning_curve\n",
    "import matplotlib.pyplot as plt\n",
    "plt.figure(figsize=(9,6))\n",
    "train_sizes, train_scores, test_scores = learning_curve(regressor_train, X= X_train, y = y_train, \n",
    "                                            cv= 5,  scoring='neg_mean_absolute_error')\n",
    "\n",
    "fig_dt=plot_learning_curve(train_sizes, train_scores, test_scores, title='Learning curve for Decision Tree')"
   ]
  },
  {
   "cell_type": "markdown",
   "metadata": {},
   "source": [
    "Lasso Regression"
   ]
  },
  {
   "cell_type": "code",
   "execution_count": 81,
   "metadata": {},
   "outputs": [
    {
     "name": "stderr",
     "output_type": "stream",
     "text": [
      "C:\\Users\\Aman\\Anaconda3\\lib\\site-packages\\sklearn\\linear_model\\coordinate_descent.py:475: ConvergenceWarning: Objective did not converge. You might want to increase the number of iterations. Duality gap: 9002443701298300.0, tolerance: 25296594984169.0\n",
      "  positive)\n",
      "C:\\Users\\Aman\\Anaconda3\\lib\\site-packages\\sklearn\\linear_model\\coordinate_descent.py:475: ConvergenceWarning: Objective did not converge. You might want to increase the number of iterations. Duality gap: 9427666971670476.0, tolerance: 25538317760068.344\n",
      "  positive)\n",
      "C:\\Users\\Aman\\Anaconda3\\lib\\site-packages\\sklearn\\linear_model\\coordinate_descent.py:475: ConvergenceWarning: Objective did not converge. You might want to increase the number of iterations. Duality gap: 1.2008761011949086e+16, tolerance: 24306869393545.86\n",
      "  positive)\n",
      "C:\\Users\\Aman\\Anaconda3\\lib\\site-packages\\sklearn\\linear_model\\coordinate_descent.py:475: ConvergenceWarning: Objective did not converge. You might want to increase the number of iterations. Duality gap: 8880088144916570.0, tolerance: 25389835115575.742\n",
      "  positive)\n",
      "C:\\Users\\Aman\\Anaconda3\\lib\\site-packages\\sklearn\\linear_model\\coordinate_descent.py:475: ConvergenceWarning: Objective did not converge. You might want to increase the number of iterations. Duality gap: 8713961563298999.0, tolerance: 25529311890226.176\n",
      "  positive)\n",
      "C:\\Users\\Aman\\Anaconda3\\lib\\site-packages\\sklearn\\linear_model\\coordinate_descent.py:475: ConvergenceWarning: Objective did not converge. You might want to increase the number of iterations. Duality gap: 8869871466836056.0, tolerance: 25427257876600.34\n",
      "  positive)\n",
      "C:\\Users\\Aman\\Anaconda3\\lib\\site-packages\\sklearn\\linear_model\\coordinate_descent.py:475: ConvergenceWarning: Objective did not converge. You might want to increase the number of iterations. Duality gap: 9088685814855962.0, tolerance: 25409831633188.367\n",
      "  positive)\n",
      "C:\\Users\\Aman\\Anaconda3\\lib\\site-packages\\sklearn\\linear_model\\coordinate_descent.py:475: ConvergenceWarning: Objective did not converge. You might want to increase the number of iterations. Duality gap: 1.0590668152262066e+16, tolerance: 26488928922007.883\n",
      "  positive)\n",
      "C:\\Users\\Aman\\Anaconda3\\lib\\site-packages\\sklearn\\linear_model\\coordinate_descent.py:475: ConvergenceWarning: Objective did not converge. You might want to increase the number of iterations. Duality gap: 1.0867892094982882e+16, tolerance: 24547174171400.14\n",
      "  positive)\n",
      "C:\\Users\\Aman\\Anaconda3\\lib\\site-packages\\sklearn\\linear_model\\coordinate_descent.py:475: ConvergenceWarning: Objective did not converge. You might want to increase the number of iterations. Duality gap: 7475129018269946.0, tolerance: 24025845298977.996\n",
      "  positive)\n",
      "C:\\Users\\Aman\\Anaconda3\\lib\\site-packages\\sklearn\\linear_model\\coordinate_descent.py:475: ConvergenceWarning: Objective did not converge. You might want to increase the number of iterations. Duality gap: 9332155607173064.0, tolerance: 25010490326723.65\n",
      "  positive)\n",
      "C:\\Users\\Aman\\Anaconda3\\lib\\site-packages\\sklearn\\linear_model\\coordinate_descent.py:475: ConvergenceWarning: Objective did not converge. You might want to increase the number of iterations. Duality gap: 9246066503691264.0, tolerance: 25329125956075.49\n",
      "  positive)\n",
      "C:\\Users\\Aman\\Anaconda3\\lib\\site-packages\\sklearn\\linear_model\\coordinate_descent.py:475: ConvergenceWarning: Objective did not converge. You might want to increase the number of iterations. Duality gap: 9778764300956348.0, tolerance: 25935129755111.36\n",
      "  positive)\n",
      "C:\\Users\\Aman\\Anaconda3\\lib\\site-packages\\sklearn\\linear_model\\coordinate_descent.py:475: ConvergenceWarning: Objective did not converge. You might want to increase the number of iterations. Duality gap: 1.0917477730911326e+16, tolerance: 25309802196260.004\n",
      "  positive)\n",
      "C:\\Users\\Aman\\Anaconda3\\lib\\site-packages\\sklearn\\linear_model\\coordinate_descent.py:475: ConvergenceWarning: Objective did not converge. You might want to increase the number of iterations. Duality gap: 1.0266465863467688e+16, tolerance: 25872289267321.887\n",
      "  positive)\n",
      "C:\\Users\\Aman\\Anaconda3\\lib\\site-packages\\sklearn\\linear_model\\coordinate_descent.py:475: ConvergenceWarning: Objective did not converge. You might want to increase the number of iterations. Duality gap: 1.0672552256432894e+16, tolerance: 24251736369720.55\n",
      "  positive)\n",
      "C:\\Users\\Aman\\Anaconda3\\lib\\site-packages\\sklearn\\linear_model\\coordinate_descent.py:475: ConvergenceWarning: Objective did not converge. You might want to increase the number of iterations. Duality gap: 1.0587588795133314e+16, tolerance: 25745469350727.727\n",
      "  positive)\n",
      "C:\\Users\\Aman\\Anaconda3\\lib\\site-packages\\sklearn\\linear_model\\coordinate_descent.py:475: ConvergenceWarning: Objective did not converge. You might want to increase the number of iterations. Duality gap: 9710481455343012.0, tolerance: 25868744689536.766\n",
      "  positive)\n",
      "C:\\Users\\Aman\\Anaconda3\\lib\\site-packages\\sklearn\\linear_model\\coordinate_descent.py:475: ConvergenceWarning: Objective did not converge. You might want to increase the number of iterations. Duality gap: 9290725068180364.0, tolerance: 25812336294943.65\n",
      "  positive)\n",
      "C:\\Users\\Aman\\Anaconda3\\lib\\site-packages\\sklearn\\linear_model\\coordinate_descent.py:475: ConvergenceWarning: Objective did not converge. You might want to increase the number of iterations. Duality gap: 9204719057130594.0, tolerance: 25305267323301.35\n",
      "  positive)\n",
      "C:\\Users\\Aman\\Anaconda3\\lib\\site-packages\\sklearn\\linear_model\\coordinate_descent.py:475: ConvergenceWarning: Objective did not converge. You might want to increase the number of iterations. Duality gap: 1.0084365777840808e+16, tolerance: 24747214082382.848\n",
      "  positive)\n",
      "C:\\Users\\Aman\\Anaconda3\\lib\\site-packages\\sklearn\\linear_model\\coordinate_descent.py:475: ConvergenceWarning: Objective did not converge. You might want to increase the number of iterations. Duality gap: 9510533321978662.0, tolerance: 25629936326156.812\n",
      "  positive)\n",
      "C:\\Users\\Aman\\Anaconda3\\lib\\site-packages\\sklearn\\linear_model\\coordinate_descent.py:475: ConvergenceWarning: Objective did not converge. You might want to increase the number of iterations. Duality gap: 1.0129930447285886e+16, tolerance: 25871544403677.605\n",
      "  positive)\n",
      "C:\\Users\\Aman\\Anaconda3\\lib\\site-packages\\sklearn\\linear_model\\coordinate_descent.py:475: ConvergenceWarning: Objective did not converge. You might want to increase the number of iterations. Duality gap: 9237803313828598.0, tolerance: 24365709043011.82\n",
      "  positive)\n",
      "C:\\Users\\Aman\\Anaconda3\\lib\\site-packages\\sklearn\\linear_model\\coordinate_descent.py:475: ConvergenceWarning: Objective did not converge. You might want to increase the number of iterations. Duality gap: 1.352367475860821e+16, tolerance: 25444780160039.793\n",
      "  positive)\n",
      "C:\\Users\\Aman\\Anaconda3\\lib\\site-packages\\sklearn\\linear_model\\coordinate_descent.py:475: ConvergenceWarning: Objective did not converge. You might want to increase the number of iterations. Duality gap: 1.0347255599976394e+16, tolerance: 25986825892404.21\n",
      "  positive)\n",
      "C:\\Users\\Aman\\Anaconda3\\lib\\site-packages\\sklearn\\linear_model\\coordinate_descent.py:475: ConvergenceWarning: Objective did not converge. You might want to increase the number of iterations. Duality gap: 9623763691550194.0, tolerance: 26109100369141.52\n",
      "  positive)\n",
      "C:\\Users\\Aman\\Anaconda3\\lib\\site-packages\\sklearn\\linear_model\\coordinate_descent.py:475: ConvergenceWarning: Objective did not converge. You might want to increase the number of iterations. Duality gap: 9875293901855704.0, tolerance: 26042044818697.344\n",
      "  positive)\n",
      "C:\\Users\\Aman\\Anaconda3\\lib\\site-packages\\sklearn\\linear_model\\coordinate_descent.py:475: ConvergenceWarning: Objective did not converge. You might want to increase the number of iterations. Duality gap: 1.0474388292222184e+16, tolerance: 24908886306717.41\n",
      "  positive)\n",
      "C:\\Users\\Aman\\Anaconda3\\lib\\site-packages\\sklearn\\linear_model\\coordinate_descent.py:475: ConvergenceWarning: Objective did not converge. You might want to increase the number of iterations. Duality gap: 9405101370956206.0, tolerance: 24884152809861.86\n",
      "  positive)\n",
      "C:\\Users\\Aman\\Anaconda3\\lib\\site-packages\\sklearn\\linear_model\\coordinate_descent.py:475: ConvergenceWarning: Objective did not converge. You might want to increase the number of iterations. Duality gap: 9599383523418256.0, tolerance: 24513836354020.016\n",
      "  positive)\n"
     ]
    },
    {
     "name": "stderr",
     "output_type": "stream",
     "text": [
      "C:\\Users\\Aman\\Anaconda3\\lib\\site-packages\\sklearn\\linear_model\\coordinate_descent.py:475: ConvergenceWarning: Objective did not converge. You might want to increase the number of iterations. Duality gap: 1.179680696998206e+16, tolerance: 25484700603829.605\n",
      "  positive)\n",
      "C:\\Users\\Aman\\Anaconda3\\lib\\site-packages\\sklearn\\linear_model\\coordinate_descent.py:475: ConvergenceWarning: Objective did not converge. You might want to increase the number of iterations. Duality gap: 1.4057060328717544e+16, tolerance: 25295295447315.844\n",
      "  positive)\n",
      "C:\\Users\\Aman\\Anaconda3\\lib\\site-packages\\sklearn\\linear_model\\coordinate_descent.py:475: ConvergenceWarning: Objective did not converge. You might want to increase the number of iterations. Duality gap: 1.1154689010037924e+16, tolerance: 26650462597055.414\n",
      "  positive)\n",
      "C:\\Users\\Aman\\Anaconda3\\lib\\site-packages\\sklearn\\linear_model\\coordinate_descent.py:475: ConvergenceWarning: Objective did not converge. You might want to increase the number of iterations. Duality gap: 9318576561507136.0, tolerance: 25613449806203.324\n",
      "  positive)\n",
      "C:\\Users\\Aman\\Anaconda3\\lib\\site-packages\\sklearn\\linear_model\\coordinate_descent.py:475: ConvergenceWarning: Objective did not converge. You might want to increase the number of iterations. Duality gap: 9182215091672376.0, tolerance: 25045267564377.273\n",
      "  positive)\n",
      "C:\\Users\\Aman\\Anaconda3\\lib\\site-packages\\sklearn\\linear_model\\coordinate_descent.py:475: ConvergenceWarning: Objective did not converge. You might want to increase the number of iterations. Duality gap: 1.129148871123231e+16, tolerance: 25179216839682.832\n",
      "  positive)\n",
      "C:\\Users\\Aman\\Anaconda3\\lib\\site-packages\\sklearn\\linear_model\\coordinate_descent.py:475: ConvergenceWarning: Objective did not converge. You might want to increase the number of iterations. Duality gap: 9038586660806360.0, tolerance: 25635626124790.793\n",
      "  positive)\n",
      "C:\\Users\\Aman\\Anaconda3\\lib\\site-packages\\sklearn\\linear_model\\coordinate_descent.py:475: ConvergenceWarning: Objective did not converge. You might want to increase the number of iterations. Duality gap: 1.0525480616274152e+16, tolerance: 26609755387728.63\n",
      "  positive)\n",
      "C:\\Users\\Aman\\Anaconda3\\lib\\site-packages\\sklearn\\linear_model\\coordinate_descent.py:475: ConvergenceWarning: Objective did not converge. You might want to increase the number of iterations. Duality gap: 8986284725161647.0, tolerance: 24552192798467.094\n",
      "  positive)\n",
      "C:\\Users\\Aman\\Anaconda3\\lib\\site-packages\\sklearn\\linear_model\\coordinate_descent.py:475: ConvergenceWarning: Objective did not converge. You might want to increase the number of iterations. Duality gap: 8386270335198196.0, tolerance: 24108126079287.664\n",
      "  positive)\n",
      "C:\\Users\\Aman\\Anaconda3\\lib\\site-packages\\sklearn\\linear_model\\coordinate_descent.py:475: ConvergenceWarning: Objective did not converge. You might want to increase the number of iterations. Duality gap: 8462232146805373.0, tolerance: 25025432219463.938\n",
      "  positive)\n",
      "C:\\Users\\Aman\\Anaconda3\\lib\\site-packages\\sklearn\\linear_model\\coordinate_descent.py:475: ConvergenceWarning: Objective did not converge. You might want to increase the number of iterations. Duality gap: 7848691800697448.0, tolerance: 25907302412974.66\n",
      "  positive)\n",
      "C:\\Users\\Aman\\Anaconda3\\lib\\site-packages\\sklearn\\linear_model\\coordinate_descent.py:475: ConvergenceWarning: Objective did not converge. You might want to increase the number of iterations. Duality gap: 1.061904657260781e+16, tolerance: 25891025655834.965\n",
      "  positive)\n",
      "C:\\Users\\Aman\\Anaconda3\\lib\\site-packages\\sklearn\\linear_model\\coordinate_descent.py:475: ConvergenceWarning: Objective did not converge. You might want to increase the number of iterations. Duality gap: 1.0579423287910914e+16, tolerance: 25076287016903.133\n",
      "  positive)\n",
      "C:\\Users\\Aman\\Anaconda3\\lib\\site-packages\\sklearn\\linear_model\\coordinate_descent.py:475: ConvergenceWarning: Objective did not converge. You might want to increase the number of iterations. Duality gap: 1.0606224829286132e+16, tolerance: 27059769119145.613\n",
      "  positive)\n",
      "C:\\Users\\Aman\\Anaconda3\\lib\\site-packages\\sklearn\\linear_model\\coordinate_descent.py:475: ConvergenceWarning: Objective did not converge. You might want to increase the number of iterations. Duality gap: 7616278668458277.0, tolerance: 23299559591011.97\n",
      "  positive)\n",
      "C:\\Users\\Aman\\Anaconda3\\lib\\site-packages\\sklearn\\linear_model\\coordinate_descent.py:475: ConvergenceWarning: Objective did not converge. You might want to increase the number of iterations. Duality gap: 1.4272251426407672e+16, tolerance: 25006112763520.727\n",
      "  positive)\n",
      "C:\\Users\\Aman\\Anaconda3\\lib\\site-packages\\sklearn\\linear_model\\coordinate_descent.py:475: ConvergenceWarning: Objective did not converge. You might want to increase the number of iterations. Duality gap: 9482492889704450.0, tolerance: 25189400159043.29\n",
      "  positive)\n",
      "C:\\Users\\Aman\\Anaconda3\\lib\\site-packages\\sklearn\\linear_model\\coordinate_descent.py:475: ConvergenceWarning: Objective did not converge. You might want to increase the number of iterations. Duality gap: 1.012656126253306e+16, tolerance: 24994503313252.555\n",
      "  positive)\n",
      "C:\\Users\\Aman\\Anaconda3\\lib\\site-packages\\sklearn\\linear_model\\coordinate_descent.py:475: ConvergenceWarning: Objective did not converge. You might want to increase the number of iterations. Duality gap: 9433441976160432.0, tolerance: 25066575117876.9\n",
      "  positive)\n",
      "C:\\Users\\Aman\\Anaconda3\\lib\\site-packages\\sklearn\\linear_model\\coordinate_descent.py:475: ConvergenceWarning: Objective did not converge. You might want to increase the number of iterations. Duality gap: 7965132237768693.0, tolerance: 24594950837843.79\n",
      "  positive)\n",
      "C:\\Users\\Aman\\Anaconda3\\lib\\site-packages\\sklearn\\linear_model\\coordinate_descent.py:475: ConvergenceWarning: Objective did not converge. You might want to increase the number of iterations. Duality gap: 9982743437263900.0, tolerance: 26052231130723.805\n",
      "  positive)\n",
      "C:\\Users\\Aman\\Anaconda3\\lib\\site-packages\\sklearn\\linear_model\\coordinate_descent.py:475: ConvergenceWarning: Objective did not converge. You might want to increase the number of iterations. Duality gap: 1.2248384066052472e+16, tolerance: 25447485276143.48\n",
      "  positive)\n",
      "C:\\Users\\Aman\\Anaconda3\\lib\\site-packages\\sklearn\\linear_model\\coordinate_descent.py:475: ConvergenceWarning: Objective did not converge. You might want to increase the number of iterations. Duality gap: 8885082665525695.0, tolerance: 25031778348699.08\n",
      "  positive)\n",
      "C:\\Users\\Aman\\Anaconda3\\lib\\site-packages\\sklearn\\linear_model\\coordinate_descent.py:475: ConvergenceWarning: Objective did not converge. You might want to increase the number of iterations. Duality gap: 9637501861388806.0, tolerance: 24199948867018.152\n",
      "  positive)\n",
      "C:\\Users\\Aman\\Anaconda3\\lib\\site-packages\\sklearn\\linear_model\\coordinate_descent.py:475: ConvergenceWarning: Objective did not converge. You might want to increase the number of iterations. Duality gap: 9067922065631066.0, tolerance: 25562254032504.18\n",
      "  positive)\n",
      "C:\\Users\\Aman\\Anaconda3\\lib\\site-packages\\sklearn\\linear_model\\coordinate_descent.py:475: ConvergenceWarning: Objective did not converge. You might want to increase the number of iterations. Duality gap: 1.0690748136779516e+16, tolerance: 26920357295085.324\n",
      "  positive)\n",
      "C:\\Users\\Aman\\Anaconda3\\lib\\site-packages\\sklearn\\linear_model\\coordinate_descent.py:475: ConvergenceWarning: Objective did not converge. You might want to increase the number of iterations. Duality gap: 8498607558630386.0, tolerance: 24985612571963.625\n",
      "  positive)\n",
      "C:\\Users\\Aman\\Anaconda3\\lib\\site-packages\\sklearn\\linear_model\\coordinate_descent.py:475: ConvergenceWarning: Objective did not converge. You might want to increase the number of iterations. Duality gap: 1.182085105162453e+16, tolerance: 23467736478782.035\n",
      "  positive)\n",
      "C:\\Users\\Aman\\Anaconda3\\lib\\site-packages\\sklearn\\linear_model\\coordinate_descent.py:475: ConvergenceWarning: Objective did not converge. You might want to increase the number of iterations. Duality gap: 9389901415069590.0, tolerance: 26080954143776.977\n",
      "  positive)\n",
      "C:\\Users\\Aman\\Anaconda3\\lib\\site-packages\\sklearn\\linear_model\\coordinate_descent.py:475: ConvergenceWarning: Objective did not converge. You might want to increase the number of iterations. Duality gap: 1.0637808308547914e+16, tolerance: 24883449272975.797\n",
      "  positive)\n"
     ]
    },
    {
     "name": "stderr",
     "output_type": "stream",
     "text": [
      "C:\\Users\\Aman\\Anaconda3\\lib\\site-packages\\sklearn\\linear_model\\coordinate_descent.py:475: ConvergenceWarning: Objective did not converge. You might want to increase the number of iterations. Duality gap: 1.0722839126271934e+16, tolerance: 26441574766779.875\n",
      "  positive)\n",
      "C:\\Users\\Aman\\Anaconda3\\lib\\site-packages\\sklearn\\linear_model\\coordinate_descent.py:475: ConvergenceWarning: Objective did not converge. You might want to increase the number of iterations. Duality gap: 9165546651020812.0, tolerance: 25513268037677.168\n",
      "  positive)\n",
      "C:\\Users\\Aman\\Anaconda3\\lib\\site-packages\\sklearn\\linear_model\\coordinate_descent.py:475: ConvergenceWarning: Objective did not converge. You might want to increase the number of iterations. Duality gap: 1.0375673183162282e+16, tolerance: 25774050047186.992\n",
      "  positive)\n",
      "C:\\Users\\Aman\\Anaconda3\\lib\\site-packages\\sklearn\\linear_model\\coordinate_descent.py:475: ConvergenceWarning: Objective did not converge. You might want to increase the number of iterations. Duality gap: 1.1303367176883426e+16, tolerance: 26115992387366.008\n",
      "  positive)\n",
      "C:\\Users\\Aman\\Anaconda3\\lib\\site-packages\\sklearn\\linear_model\\coordinate_descent.py:475: ConvergenceWarning: Objective did not converge. You might want to increase the number of iterations. Duality gap: 9060613856732884.0, tolerance: 24388727372411.766\n",
      "  positive)\n",
      "C:\\Users\\Aman\\Anaconda3\\lib\\site-packages\\sklearn\\linear_model\\coordinate_descent.py:475: ConvergenceWarning: Objective did not converge. You might want to increase the number of iterations. Duality gap: 1.0225790162405322e+16, tolerance: 25504744890500.047\n",
      "  positive)\n",
      "C:\\Users\\Aman\\Anaconda3\\lib\\site-packages\\sklearn\\linear_model\\coordinate_descent.py:475: ConvergenceWarning: Objective did not converge. You might want to increase the number of iterations. Duality gap: 9643385603766052.0, tolerance: 25441809813252.99\n",
      "  positive)\n",
      "C:\\Users\\Aman\\Anaconda3\\lib\\site-packages\\sklearn\\linear_model\\coordinate_descent.py:475: ConvergenceWarning: Objective did not converge. You might want to increase the number of iterations. Duality gap: 9591564253229008.0, tolerance: 25551063769099.29\n",
      "  positive)\n",
      "C:\\Users\\Aman\\Anaconda3\\lib\\site-packages\\sklearn\\linear_model\\coordinate_descent.py:475: ConvergenceWarning: Objective did not converge. You might want to increase the number of iterations. Duality gap: 1.143455495800356e+16, tolerance: 24915773501940.316\n",
      "  positive)\n",
      "C:\\Users\\Aman\\Anaconda3\\lib\\site-packages\\sklearn\\linear_model\\coordinate_descent.py:475: ConvergenceWarning: Objective did not converge. You might want to increase the number of iterations. Duality gap: 9926663452529626.0, tolerance: 25764120965585.695\n",
      "  positive)\n",
      "C:\\Users\\Aman\\Anaconda3\\lib\\site-packages\\sklearn\\linear_model\\coordinate_descent.py:475: ConvergenceWarning: Objective did not converge. You might want to increase the number of iterations. Duality gap: 9747638540810714.0, tolerance: 24595691599503.33\n",
      "  positive)\n",
      "C:\\Users\\Aman\\Anaconda3\\lib\\site-packages\\sklearn\\linear_model\\coordinate_descent.py:475: ConvergenceWarning: Objective did not converge. You might want to increase the number of iterations. Duality gap: 1.0165715040084882e+16, tolerance: 25589088841390.984\n",
      "  positive)\n",
      "C:\\Users\\Aman\\Anaconda3\\lib\\site-packages\\sklearn\\linear_model\\coordinate_descent.py:475: ConvergenceWarning: Objective did not converge. You might want to increase the number of iterations. Duality gap: 1.0798861349590052e+16, tolerance: 26266871343475.74\n",
      "  positive)\n",
      "C:\\Users\\Aman\\Anaconda3\\lib\\site-packages\\sklearn\\linear_model\\coordinate_descent.py:475: ConvergenceWarning: Objective did not converge. You might want to increase the number of iterations. Duality gap: 1.1404731105293046e+16, tolerance: 25361907272040.734\n",
      "  positive)\n",
      "C:\\Users\\Aman\\Anaconda3\\lib\\site-packages\\sklearn\\linear_model\\coordinate_descent.py:475: ConvergenceWarning: Objective did not converge. You might want to increase the number of iterations. Duality gap: 9386222743514018.0, tolerance: 25509756045827.434\n",
      "  positive)\n",
      "C:\\Users\\Aman\\Anaconda3\\lib\\site-packages\\sklearn\\linear_model\\coordinate_descent.py:475: ConvergenceWarning: Objective did not converge. You might want to increase the number of iterations. Duality gap: 9412584402753414.0, tolerance: 26372107648935.832\n",
      "  positive)\n",
      "C:\\Users\\Aman\\Anaconda3\\lib\\site-packages\\sklearn\\linear_model\\coordinate_descent.py:475: ConvergenceWarning: Objective did not converge. You might want to increase the number of iterations. Duality gap: 1.3406236907644046e+16, tolerance: 24935604920993.25\n",
      "  positive)\n",
      "C:\\Users\\Aman\\Anaconda3\\lib\\site-packages\\sklearn\\linear_model\\coordinate_descent.py:475: ConvergenceWarning: Objective did not converge. You might want to increase the number of iterations. Duality gap: 1.1457189708483028e+16, tolerance: 26303683357486.863\n",
      "  positive)\n",
      "C:\\Users\\Aman\\Anaconda3\\lib\\site-packages\\sklearn\\linear_model\\coordinate_descent.py:475: ConvergenceWarning: Objective did not converge. You might want to increase the number of iterations. Duality gap: 1.009996666146134e+16, tolerance: 25282370224589.836\n",
      "  positive)\n",
      "C:\\Users\\Aman\\Anaconda3\\lib\\site-packages\\sklearn\\linear_model\\coordinate_descent.py:475: ConvergenceWarning: Objective did not converge. You might want to increase the number of iterations. Duality gap: 9453943464439020.0, tolerance: 25285551583464.883\n",
      "  positive)\n",
      "C:\\Users\\Aman\\Anaconda3\\lib\\site-packages\\sklearn\\linear_model\\coordinate_descent.py:475: ConvergenceWarning: Objective did not converge. You might want to increase the number of iterations. Duality gap: 9046441745888166.0, tolerance: 25242273586761.492\n",
      "  positive)\n",
      "C:\\Users\\Aman\\Anaconda3\\lib\\site-packages\\sklearn\\linear_model\\coordinate_descent.py:475: ConvergenceWarning: Objective did not converge. You might want to increase the number of iterations. Duality gap: 9494987090209444.0, tolerance: 25371329250483.367\n",
      "  positive)\n",
      "C:\\Users\\Aman\\Anaconda3\\lib\\site-packages\\sklearn\\linear_model\\coordinate_descent.py:475: ConvergenceWarning: Objective did not converge. You might want to increase the number of iterations. Duality gap: 1.0275065134033964e+16, tolerance: 26728680076438.727\n",
      "  positive)\n",
      "C:\\Users\\Aman\\Anaconda3\\lib\\site-packages\\sklearn\\linear_model\\coordinate_descent.py:475: ConvergenceWarning: Objective did not converge. You might want to increase the number of iterations. Duality gap: 1.0825902637385246e+16, tolerance: 25854254393042.094\n",
      "  positive)\n",
      "C:\\Users\\Aman\\Anaconda3\\lib\\site-packages\\sklearn\\linear_model\\coordinate_descent.py:475: ConvergenceWarning: Objective did not converge. You might want to increase the number of iterations. Duality gap: 9130541394524330.0, tolerance: 25470385620462.953\n",
      "  positive)\n",
      "C:\\Users\\Aman\\Anaconda3\\lib\\site-packages\\sklearn\\linear_model\\coordinate_descent.py:475: ConvergenceWarning: Objective did not converge. You might want to increase the number of iterations. Duality gap: 1.3200930344048846e+16, tolerance: 25329149120634.53\n",
      "  positive)\n",
      "C:\\Users\\Aman\\Anaconda3\\lib\\site-packages\\sklearn\\linear_model\\coordinate_descent.py:475: ConvergenceWarning: Objective did not converge. You might want to increase the number of iterations. Duality gap: 1.1258889721262e+16, tolerance: 26195525525837.895\n",
      "  positive)\n",
      "C:\\Users\\Aman\\Anaconda3\\lib\\site-packages\\sklearn\\linear_model\\coordinate_descent.py:475: ConvergenceWarning: Objective did not converge. You might want to increase the number of iterations. Duality gap: 1.1614245281214374e+16, tolerance: 25930865870005.574\n",
      "  positive)\n",
      "C:\\Users\\Aman\\Anaconda3\\lib\\site-packages\\sklearn\\linear_model\\coordinate_descent.py:475: ConvergenceWarning: Objective did not converge. You might want to increase the number of iterations. Duality gap: 9449908765650264.0, tolerance: 25238017490465.53\n",
      "  positive)\n",
      "C:\\Users\\Aman\\Anaconda3\\lib\\site-packages\\sklearn\\linear_model\\coordinate_descent.py:475: ConvergenceWarning: Objective did not converge. You might want to increase the number of iterations. Duality gap: 9251968281905078.0, tolerance: 24695232524152.1\n",
      "  positive)\n",
      "C:\\Users\\Aman\\Anaconda3\\lib\\site-packages\\sklearn\\linear_model\\coordinate_descent.py:475: ConvergenceWarning: Objective did not converge. You might want to increase the number of iterations. Duality gap: 8345771612662074.0, tolerance: 24251158747980.848\n",
      "  positive)\n"
     ]
    },
    {
     "name": "stderr",
     "output_type": "stream",
     "text": [
      "C:\\Users\\Aman\\Anaconda3\\lib\\site-packages\\sklearn\\linear_model\\coordinate_descent.py:475: ConvergenceWarning: Objective did not converge. You might want to increase the number of iterations. Duality gap: 1.473093945330822e+16, tolerance: 26148002696901.996\n",
      "  positive)\n",
      "C:\\Users\\Aman\\Anaconda3\\lib\\site-packages\\sklearn\\linear_model\\coordinate_descent.py:475: ConvergenceWarning: Objective did not converge. You might want to increase the number of iterations. Duality gap: 1.097591010788458e+16, tolerance: 25679353085714.613\n",
      "  positive)\n",
      "C:\\Users\\Aman\\Anaconda3\\lib\\site-packages\\sklearn\\linear_model\\coordinate_descent.py:475: ConvergenceWarning: Objective did not converge. You might want to increase the number of iterations. Duality gap: 9949991713313040.0, tolerance: 25491235093177.812\n",
      "  positive)\n",
      "C:\\Users\\Aman\\Anaconda3\\lib\\site-packages\\sklearn\\linear_model\\coordinate_descent.py:475: ConvergenceWarning: Objective did not converge. You might want to increase the number of iterations. Duality gap: 9626645823101852.0, tolerance: 26264324240177.29\n",
      "  positive)\n",
      "C:\\Users\\Aman\\Anaconda3\\lib\\site-packages\\sklearn\\linear_model\\coordinate_descent.py:475: ConvergenceWarning: Objective did not converge. You might want to increase the number of iterations. Duality gap: 1.01176297000851e+16, tolerance: 26482748044742.97\n",
      "  positive)\n"
     ]
    },
    {
     "data": {
      "text/plain": [
       "2910628.7779700425"
      ]
     },
     "execution_count": 81,
     "metadata": {},
     "output_type": "execute_result"
    }
   ],
   "source": [
    "from sklearn import linear_model\n",
    "lso_train = linear_model.Lasso(alpha=0.3,normalize=True)\n",
    "lso_train.fit(X_train, y_train )\n",
    "preds = lso_train.predict(X_test)\n",
    "mae4 = metrics.mean_absolute_error(y_test,preds)\n",
    "mae4"
   ]
  },
  {
   "cell_type": "code",
   "execution_count": null,
   "metadata": {},
   "outputs": [],
   "source": [
    "plt.figure(figsize=(9,6))\n",
    "train_sizes, train_scores, test_scores = learning_curve(lso_train, X= X_train, y = y_train, \n",
    "                                            cv= 5,  scoring='neg_mean_absolute_error')\n",
    "\n",
    "fig_lso=plot_learning_curve(train_sizes, train_scores, test_scores, title='Learning curve for Lasso')"
   ]
  },
  {
   "cell_type": "markdown",
   "metadata": {},
   "source": [
    "Random Forest\n"
   ]
  },
  {
   "cell_type": "code",
   "execution_count": null,
   "metadata": {},
   "outputs": [],
   "source": [
    "from sklearn.ensemble import RandomForestRegressor\n",
    "from sklearn.multioutput import MultiOutputRegressor\n",
    "RFR_train=MultiOutputRegressor(RandomForestRegressor(max_depth=6,n_estimators=50))\n",
    "RFR_train.fit(X_train, y_train)\n",
    "y_pred = RFR_train.predict(X_test)\n",
    "mae6 = metrics.mean_absolute_error(y_test,y_pred)\n",
    "mae6"
   ]
  },
  {
   "cell_type": "code",
   "execution_count": null,
   "metadata": {},
   "outputs": [],
   "source": [
    "plt.figure(figsize=(9,6))\n",
    "train_sizes, train_scores, test_scores = learning_curve(RFR_train, X= X_train, y = y_train, \n",
    "                                            cv= 5,  scoring='neg_mean_absolute_error')\n",
    "\n",
    "fig_dt=plot_learning_curve(train_sizes, train_scores, test_scores, title='Learning curve for Random Forest')"
   ]
  },
  {
   "cell_type": "markdown",
   "metadata": {},
   "source": [
    "ANN(Sequential)"
   ]
  },
  {
   "cell_type": "code",
   "execution_count": null,
   "metadata": {},
   "outputs": [],
   "source": [
    "import keras\n",
    "from keras.layers import Dense\n",
    "from keras.models import Sequential"
   ]
  },
  {
   "cell_type": "code",
   "execution_count": null,
   "metadata": {},
   "outputs": [],
   "source": [
    "model_train = Sequential()\n",
    "model_train.add(Dense(300, activation='relu', input_shape = (3000,)))\n",
    "model_train.add(Dense(250, activation='relu'))\n",
    "model_train.add(Dense(200, activation='relu'))\n",
    "model_train.add(Dense(150, activation='relu'))\n",
    "\n",
    "model_train.add(Dense(98, kernel_initializer='normal'))\n"
   ]
  },
  {
   "cell_type": "code",
   "execution_count": null,
   "metadata": {},
   "outputs": [],
   "source": [
    "model_train.compile(optimizer='adam', loss='mean_absolute_error')\n"
   ]
  },
  {
   "cell_type": "code",
   "execution_count": null,
   "metadata": {},
   "outputs": [],
   "source": [
    "history=model_train.fit(X_train, y_train,validation_data=(X_test, y_test), epochs=1000)\n"
   ]
  },
  {
   "cell_type": "code",
   "execution_count": null,
   "metadata": {},
   "outputs": [],
   "source": [
    "mae5 = model_train.evaluate(X_test, y_test)\n",
    "mae5"
   ]
  },
  {
   "cell_type": "code",
   "execution_count": null,
   "metadata": {},
   "outputs": [],
   "source": [
    "plt.figure(figsize=(9,6))\n",
    "plt.plot(history.history['loss'], '.-',color='blue')\n",
    "plt.plot(history.history['val_loss'], '.-',color='red')\n",
    "plt.title('Learning curve for ANN')\n",
    "plt.ylabel('MAE')\n",
    "plt.xlabel('epoch')\n",
    "plt.legend(['train score', 'test score'])\n",
    "plt.grid(ls='--')\n",
    "plt.show()"
   ]
  },
  {
   "cell_type": "code",
   "execution_count": 84,
   "metadata": {},
   "outputs": [
    {
     "data": {
      "text/html": [
       "<div>\n",
       "<style scoped>\n",
       "    .dataframe tbody tr th:only-of-type {\n",
       "        vertical-align: middle;\n",
       "    }\n",
       "\n",
       "    .dataframe tbody tr th {\n",
       "        vertical-align: top;\n",
       "    }\n",
       "\n",
       "    .dataframe thead th {\n",
       "        text-align: right;\n",
       "    }\n",
       "</style>\n",
       "<table border=\"1\" class=\"dataframe\">\n",
       "  <thead>\n",
       "    <tr style=\"text-align: right;\">\n",
       "      <th></th>\n",
       "      <th>Ridge</th>\n",
       "      <th>Linear Regression</th>\n",
       "      <th>Decision Tree</th>\n",
       "      <th>Lasso</th>\n",
       "      <th>Random Forest</th>\n",
       "    </tr>\n",
       "  </thead>\n",
       "  <tbody>\n",
       "    <tr>\n",
       "      <td>MAE</td>\n",
       "      <td>2.220281e+06</td>\n",
       "      <td>4.820050e+06</td>\n",
       "      <td>4.820050e+06</td>\n",
       "      <td>2.910629e+06</td>\n",
       "      <td>2.217006e+06</td>\n",
       "    </tr>\n",
       "  </tbody>\n",
       "</table>\n",
       "</div>"
      ],
      "text/plain": [
       "            Ridge  Linear Regression  Decision Tree         Lasso  \\\n",
       "MAE  2.220281e+06       4.820050e+06   4.820050e+06  2.910629e+06   \n",
       "\n",
       "     Random Forest  \n",
       "MAE   2.217006e+06  "
      ]
     },
     "execution_count": 84,
     "metadata": {},
     "output_type": "execute_result"
    }
   ],
   "source": [
    "import pandas as pd \n",
    "d = {'Ridge': [mae1], 'Linear Regression': [mae2], 'Decision Tree': [mae3],'Lasso': [mae4],\n",
    "    'Random Forest':[mae6]}\n",
    "df = pd.DataFrame(data=d)\n",
    "df.index=[\"MAE\"]\n",
    "df\n"
   ]
  },
  {
   "cell_type": "code",
   "execution_count": 85,
   "metadata": {},
   "outputs": [
    {
     "name": "stderr",
     "output_type": "stream",
     "text": [
      "C:\\Users\\Aman\\Anaconda3\\lib\\site-packages\\seaborn\\categorical.py:3666: UserWarning: The `factorplot` function has been renamed to `catplot`. The original name will be removed in a future release. Please update your code. Note that the default `kind` in `factorplot` (`'point'`) has changed `'strip'` in `catplot`.\n",
      "  warnings.warn(msg)\n"
     ]
    },
    {
     "data": {
      "text/plain": [
       "Text(0.5, 1, \"Models' MAEs\")"
      ]
     },
     "execution_count": 85,
     "metadata": {},
     "output_type": "execute_result"
    },
    {
     "data": {
      "image/png": "[encoded data removed]",
      "text/plain": [
       "<Figure size 360x360 with 1 Axes>"
      ]
     },
     "metadata": {
      "needs_background": "light"
     },
     "output_type": "display_data"
    }
   ],
   "source": [
    "import seaborn as sns\n",
    "import matplotlib.pyplot as plt\n",
    "sns.factorplot(data=df,kind=\"bar\",palette='coolwarm')\n",
    "plt.xticks(rotation=45)\n",
    "plt.ylabel(\"MAE\")\n",
    "plt.title(\"Models' MAEs\")"
   ]
  },
  {
   "cell_type": "code",
   "execution_count": 1,
   "metadata": {},
   "outputs": [
    {
     "name": "stdout",
     "output_type": "stream",
     "text": [
      "C:\\Users\\Aman\n"
     ]
    }
   ],
   "source": [
    "cd"
   ]
  },
  {
   "cell_type": "code",
   "execution_count": null,
   "metadata": {},
   "outputs": [],
   "source": []
  },
  {
   "cell_type": "code",
   "execution_count": null,
   "metadata": {},
   "outputs": [],
   "source": []
  },
  {
   "cell_type": "code",
   "execution_count": null,
   "metadata": {},
   "outputs": [],
   "source": []
  },
  {
   "cell_type": "code",
   "execution_count": null,
   "metadata": {},
   "outputs": [],
   "source": []
  },
  {
   "cell_type": "code",
   "execution_count": null,
   "metadata": {},
   "outputs": [],
   "source": []
  },
  {
   "cell_type": "code",
   "execution_count": null,
   "metadata": {},
   "outputs": [],
   "source": []
  }
 ],
 "metadata": {
  "kernelspec": {
   "display_name": "Python 3",
   "language": "python",
   "name": "python3"
  },
  "language_info": {
   "codemirror_mode": {
    "name": "ipython",
    "version": 3
   },
   "file_extension": ".py",
   "mimetype": "text/x-python",
   "name": "python",
   "nbconvert_exporter": "python",
   "pygments_lexer": "ipython3",
   "version": "3.7.4"
  }
 },
 "nbformat": 4,
 "nbformat_minor": 2
}
